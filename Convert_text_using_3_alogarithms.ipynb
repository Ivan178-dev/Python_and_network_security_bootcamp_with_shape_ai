{
  "nbformat": 4,
  "nbformat_minor": 0,
  "metadata": {
    "colab": {
      "name": "Convert_text_using_3_alogarithms.ipynb",
      "provenance": []
    },
    "kernelspec": {
      "name": "python3",
      "display_name": "Python 3"
    },
    "language_info": {
      "name": "python"
    }
  },
  "cells": [
    {
      "cell_type": "code",
      "metadata": {
        "colab": {
          "base_uri": "https://localhost:8080/"
        },
        "id": "SjiQQgPzs5Nl",
        "outputId": "ad1e02a8-d0a0-4ed5-d70f-1b7f6d6c9c4f"
      },
      "source": [
        "\n",
        "import hashlib\n",
        "\n",
        "def Convert_text(text):\n",
        "  salt = 'ivan68'\n",
        "\n",
        "  #using sha3_256\n",
        "  #adding salt\n",
        "  text = text + salt\n",
        "\n",
        "  #converting text to utf-8\n",
        "  textutf8 = text.encode('utf-8')\n",
        "\n",
        "  #adding iterator\n",
        "  def Iterate(textutf8):\n",
        "    x = 0\n",
        "    while x<5:\n",
        "      hash = hashlib.sha3_256( textutf8 )\n",
        "      x+=1\n",
        "      return hash\n",
        "\n",
        "\n",
        "  hash = Iterate(textutf8)\n",
        "  hexa = hash.hexdigest()\n",
        "\n",
        "  #using sha1\n",
        "  hexa = hexa + salt\n",
        "  hexautf8 = hexa.encode('utf-8')\n",
        "\n",
        "\n",
        "  #adding iterator\n",
        "  def Iterate(hexautf8):\n",
        "    x = 0\n",
        "    while x<5:\n",
        "      hash = hashlib.sha1(hexautf8)\n",
        "      x+=1\n",
        "      return hash\n",
        "\n",
        "\n",
        "  hash = Iterate(hexautf8)\n",
        "  hexa = hash.hexdigest()\n",
        "\n",
        "\n",
        "  #using blake_2b()\n",
        "  hexa = hexa + salt\n",
        "  hexautf8 = hexa.encode('utf-8')\n",
        "\n",
        "\n",
        "  #adding iterator\n",
        "  def Iterate(hexautf8):\n",
        "    x = 0\n",
        "    while(x<5):\n",
        "      hash = hashlib.blake2b(hexautf8)\n",
        "      x+=1\n",
        "      return hash\n",
        "\n",
        "  hash = Iterate(hexautf8)\n",
        "  hexa = hash.hexdigest()\n",
        "\n",
        "  return hexa\n",
        "\n",
        "\n",
        "text = input('Enter string: ')\n",
        "hash = Convert_text(text)\n",
        "print(hash)"
      ],
      "execution_count": 23,
      "outputs": [
        {
          "output_type": "stream",
          "text": [
            "Enter string: ivan\n",
            "c88a5da6f458bd190d7ab5be278a9cf598c250a571f0a714a823da151bcaed84f40615e6215f5196d73514f06111f2c0f8c157758f8db09187f5be6032bbcf3f\n"
          ],
          "name": "stdout"
        }
      ]
    }
  ]
}