{
  "nbformat": 4,
  "nbformat_minor": 0,
  "metadata": {
    "colab": {
      "name": "Convert_text_using_3_alogarithms_in_py.ipynb",
      "provenance": []
    },
    "kernelspec": {
      "name": "python3",
      "display_name": "Python 3"
    },
    "language_info": {
      "name": "python"
    }
  },
  "cells": [
    {
      "cell_type": "code",
      "metadata": {
        "colab": {
          "base_uri": "https://localhost:8080/"
        },
        "id": "SjiQQgPzs5Nl",
        "outputId": "59aea5bd-9559-4650-b9b4-3ce8e879f725"
      },
      "source": [
        "import hashlib\n",
        "\n",
        "\n",
        "def Convert_text(text):\n",
        "  salt = 'ivan68'\n",
        "\n",
        "\n",
        "  #defining iterator\n",
        "  def Iterate(alog, text):\n",
        "    x = 0\n",
        "    while x<5:\n",
        "      text = alog(text)\n",
        "      return text \n",
        "\n",
        "\n",
        "  #using sha3_256\n",
        "  #adding salt\n",
        "  text = text + salt\n",
        "\n",
        "  #converting text to utf-8\n",
        "  textutf8 = text.encode('utf-8')\n",
        "\n",
        "  #adding iterator\n",
        "  hash = Iterate( hashlib.sha3_256, textutf8 )\n",
        "  hexa = hash.hexdigest()\n",
        "\n",
        "  #using sha1\n",
        "  hexa = hexa + salt\n",
        "  hexautf8 = hexa.encode('utf-8')\n",
        "\n",
        "\n",
        "  #adding iterator\n",
        "  hash = Iterate( hashlib.sha1, hexautf8 )\n",
        "  hexa = hash.hexdigest()\n",
        "\n",
        "\n",
        "  #using blake_2b()\n",
        "  hexa = hexa + salt\n",
        "  hexautf8 = hexa.encode('utf-8')\n",
        "\n",
        "\n",
        "  #adding iterator\n",
        "  hash = Iterate( hashlib.blake2b, hexautf8 )\n",
        "  hexa = hash.hexdigest()\n",
        "\n",
        "  return hexa\n",
        "\n",
        "\n",
        "text = input('Enter string: ')\n",
        "hash = Convert_text(text)\n",
        "print(hash)"
      ],
      "execution_count": 9,
      "outputs": [
        {
          "output_type": "stream",
          "text": [
            "Enter string: r\n",
            "b94536bef11b2729d7b3d2fbe3addf47305db812dabf5f851b2dd7265b48d31e16dc3b968415ddca996819e8cc860b434eaf2724b60df35b416b6d35d8fd0c22\n"
          ],
          "name": "stdout"
        }
      ]
    }
  ]
}