{
  "nbformat": 4,
  "nbformat_minor": 0,
  "metadata": {
    "colab": {
      "name": "String_to_MD5.ipynb",
      "provenance": []
    },
    "kernelspec": {
      "name": "python3",
      "display_name": "Python 3"
    },
    "language_info": {
      "name": "python"
    }
  },
  "cells": [
    {
      "cell_type": "code",
      "metadata": {
        "colab": {
          "base_uri": "https://localhost:8080/"
        },
        "id": "HKi4E-IukFMS",
        "outputId": "2b746b27-4237-4f0a-ca06-57e8f4c07e18"
      },
      "source": [
        "import hashlib\n",
        "\n",
        "def Convert_md5(text): \n",
        "\n",
        "  textutf8 = text.encode(\"utf-8\")\n",
        "\n",
        "  hash = hashlib.md5( textutf8 )\n",
        "  hexa = hash.hexdigest()\n",
        "\n",
        "\n",
        "  return hexa\n",
        "\n",
        "text = input('Enter string: ')\n",
        "hexa = Convert_md5(text)\n",
        "print(hexa)\n",
        "\n"
      ],
      "execution_count": 3,
      "outputs": [
        {
          "output_type": "stream",
          "text": [
            "Enter string: h\n",
            "2510c39011c5be704182423e3a695e91\n"
          ],
          "name": "stdout"
        }
      ]
    }
  ]
}